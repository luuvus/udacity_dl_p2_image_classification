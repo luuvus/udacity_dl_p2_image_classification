{
 "cells": [
  {
   "cell_type": "markdown",
   "metadata": {
    "collapsed": true,
    "deletable": true,
    "editable": true
   },
   "source": [
    "# Image Classification\n",
    "In this project, you'll classify images from the [CIFAR-10 dataset](https://www.cs.toronto.edu/~kriz/cifar.html).  The dataset consists of airplanes, dogs, cats, and other objects. You'll preprocess the images, then train a convolutional neural network on all the samples. The images need to be normalized and the labels need to be one-hot encoded.  You'll get to apply what you learned and build a convolutional, max pooling, dropout, and fully connected layers.  At the end, you'll get to see your neural network's predictions on the sample images.\n",
    "## Get the Data\n",
    "Run the following cell to download the [CIFAR-10 dataset for python](https://www.cs.toronto.edu/~kriz/cifar-10-python.tar.gz)."
   ]
  },
  {
   "cell_type": "code",
   "execution_count": 1,
   "metadata": {
    "collapsed": false,
    "deletable": true,
    "editable": true
   },
   "outputs": [
    {
     "name": "stderr",
     "output_type": "stream",
     "text": [
      "CIFAR-10 Dataset: 171MB [01:37, 1.75MB/s]                              \n"
     ]
    },
    {
     "name": "stdout",
     "output_type": "stream",
     "text": [
      "All files found!\n"
     ]
    }
   ],
   "source": [
    "\"\"\"\n",
    "DON'T MODIFY ANYTHING IN THIS CELL THAT IS BELOW THIS LINE\n",
    "\"\"\"\n",
    "from urllib.request import urlretrieve\n",
    "from os.path import isfile, isdir\n",
    "from tqdm import tqdm\n",
    "import problem_unittests as tests\n",
    "import tarfile\n",
    "\n",
    "cifar10_dataset_folder_path = 'cifar-10-batches-py'\n",
    "\n",
    "# Use Floyd's cifar-10 dataset if present\n",
    "floyd_cifar10_location = '/input/cifar-10/python.tar.gz'\n",
    "if isfile(floyd_cifar10_location):\n",
    "    tar_gz_path = floyd_cifar10_location\n",
    "else:\n",
    "    tar_gz_path = 'cifar-10-python.tar.gz'\n",
    "\n",
    "class DLProgress(tqdm):\n",
    "    last_block = 0\n",
    "\n",
    "    def hook(self, block_num=1, block_size=1, total_size=None):\n",
    "        self.total = total_size\n",
    "        self.update((block_num - self.last_block) * block_size)\n",
    "        self.last_block = block_num\n",
    "\n",
    "if not isfile(tar_gz_path):\n",
    "    with DLProgress(unit='B', unit_scale=True, miniters=1, desc='CIFAR-10 Dataset') as pbar:\n",
    "        urlretrieve(\n",
    "            'https://www.cs.toronto.edu/~kriz/cifar-10-python.tar.gz',\n",
    "            tar_gz_path,\n",
    "            pbar.hook)\n",
    "\n",
    "if not isdir(cifar10_dataset_folder_path):\n",
    "    with tarfile.open(tar_gz_path) as tar:\n",
    "        tar.extractall()\n",
    "        tar.close()\n",
    "\n",
    "\n",
    "tests.test_folder_path(cifar10_dataset_folder_path)"
   ]
  },
  {
   "cell_type": "markdown",
   "metadata": {
    "deletable": true,
    "editable": true
   },
   "source": [
    "## Explore the Data\n",
    "The dataset is broken into batches to prevent your machine from running out of memory.  The CIFAR-10 dataset consists of 5 batches, named `data_batch_1`, `data_batch_2`, etc.. Each batch contains the labels and images that are one of the following:\n",
    "* airplane\n",
    "* automobile\n",
    "* bird\n",
    "* cat\n",
    "* deer\n",
    "* dog\n",
    "* frog\n",
    "* horse\n",
    "* ship\n",
    "* truck\n",
    "\n",
    "Understanding a dataset is part of making predictions on the data.  Play around with the code cell below by changing the `batch_id` and `sample_id`. The `batch_id` is the id for a batch (1-5). The `sample_id` is the id for a image and label pair in the batch.\n",
    "\n",
    "Ask yourself \"What are all possible labels?\", \"What is the range of values for the image data?\", \"Are the labels in order or random?\".  Answers to questions like these will help you preprocess the data and end up with better predictions."
   ]
  },
  {
   "cell_type": "code",
   "execution_count": 2,
   "metadata": {
    "collapsed": false,
    "deletable": true,
    "editable": true
   },
   "outputs": [
    {
     "name": "stdout",
     "output_type": "stream",
     "text": [
      "\n",
      "Stats of batch 1:\n",
      "Samples: 10000\n",
      "Label Counts: {0: 1005, 1: 974, 2: 1032, 3: 1016, 4: 999, 5: 937, 6: 1030, 7: 1001, 8: 1025, 9: 981}\n",
      "First 20 Labels: [6, 9, 9, 4, 1, 1, 2, 7, 8, 3, 4, 7, 7, 2, 9, 9, 9, 3, 2, 6]\n",
      "\n",
      "Example of Image 5:\n",
      "Image - Min Value: 0 Max Value: 252\n",
      "Image - Shape: (32, 32, 3)\n",
      "Label - Label Id: 1 Name: automobile\n"
     ]
    },
    {
     "data": {
      "image/png": "[encoded data removed]",
      "text/plain": [
       "<matplotlib.figure.Figure at 0x7f6d5c5a07f0>"
      ]
     },
     "metadata": {
      "image/png": {
       "height": 250,
       "width": 253
      }
     },
     "output_type": "display_data"
    }
   ],
   "source": [
    "%matplotlib inline\n",
    "%config InlineBackend.figure_format = 'retina'\n",
    "\n",
    "import helper\n",
    "import numpy as np\n",
    "\n",
    "# Explore the dataset\n",
    "batch_id = 1\n",
    "sample_id = 5\n",
    "helper.display_stats(cifar10_dataset_folder_path, batch_id, sample_id)"
   ]
  },
  {
   "cell_type": "markdown",
   "metadata": {
    "deletable": true,
    "editable": true
   },
   "source": [
    "## Implement Preprocess Functions\n",
    "### Normalize\n",
    "In the cell below, implement the `normalize` function to take in image data, `x`, and return it as a normalized Numpy array. The values should be in the range of 0 to 1, inclusive.  The return object should be the same shape as `x`."
   ]
  },
  {
   "cell_type": "code",
   "execution_count": 5,
   "metadata": {
    "collapsed": false,
    "deletable": true,
    "editable": true
   },
   "outputs": [
    {
     "name": "stdout",
     "output_type": "stream",
     "text": [
      "Tests Passed\n"
     ]
    }
   ],
   "source": [
    "def normalize(x):\n",
    "    \"\"\"\n",
    "    Normalize a list of sample image data in the range of 0 to 1\n",
    "    : x: List of image data.  The image shape is (32, 32, 3)\n",
    "    : return: Numpy array of normalize data\n",
    "    \"\"\"\n",
    "    # TODO: Implement Function\n",
    "    return  np.array(x / x.max())\n",
    "\n",
    "\n",
    "\"\"\"\n",
    "DON'T MODIFY ANYTHING IN THIS CELL THAT IS BELOW THIS LINE\n",
    "\"\"\"\n",
    "tests.test_normalize(normalize)"
   ]
  },
  {
   "cell_type": "markdown",
   "metadata": {
    "deletable": true,
    "editable": true
   },
   "source": [
    "### One-hot encode\n",
    "Just like the previous code cell, you'll be implementing a function for preprocessing.  This time, you'll implement the `one_hot_encode` function. The input, `x`, are a list of labels.  Implement the function to return the list of labels as One-Hot encoded Numpy array.  The possible values for labels are 0 to 9. The one-hot encoding function should return the same encoding for each value between each call to `one_hot_encode`.  Make sure to save the map of encodings outside the function.\n",
    "\n",
    "Hint: Don't reinvent the wheel."
   ]
  },
  {
   "cell_type": "code",
   "execution_count": 6,
   "metadata": {
    "collapsed": false,
    "deletable": true,
    "editable": true
   },
   "outputs": [
    {
     "name": "stdout",
     "output_type": "stream",
     "text": [
      "Tests Passed\n"
     ]
    }
   ],
   "source": [
    "from sklearn import preprocessing\n",
    "obj_label_binarizer = None\n",
    "\n",
    "def one_hot_encode(x):\n",
    "    \"\"\"\n",
    "    One hot encode a list of sample labels. Return a one-hot encoded vector for each label.\n",
    "    : x: List of sample Labels\n",
    "    : return: Numpy array of one-hot encoded labels\n",
    "    \"\"\"\n",
    "    # TODO: Implement Function\n",
    "    \"\"\"\n",
    "    Found solution from mmembe 'mandeepak' in forum thread: \n",
    "    https://discussions.udacity.com/t/one-hot-encoding-help/224505/15   \n",
    "    \"\"\"\n",
    "    global obj_label_binarizer\n",
    "    \n",
    "    if obj_label_binarizer is None:\n",
    "        obj_label_binarizer = preprocessing.LabelBinarizer()\n",
    "        obj_label_binarizer.fit(x)\n",
    "    \n",
    "    encodings = obj_label_binarizer.transform(x)\n",
    "    \n",
    "    return encodings\n",
    "\n",
    "\n",
    "\"\"\"\n",
    "DON'T MODIFY ANYTHING IN THIS CELL THAT IS BELOW THIS LINE\n",
    "\"\"\"\n",
    "tests.test_one_hot_encode(one_hot_encode)"
   ]
  },
  {
   "cell_type": "markdown",
   "metadata": {
    "deletable": true,
    "editable": true
   },
   "source": [
    "### Randomize Data\n",
    "As you saw from exploring the data above, the order of the samples are randomized.  It doesn't hurt to randomize it again, but you don't need to for this dataset."
   ]
  },
  {
   "cell_type": "markdown",
   "metadata": {
    "deletable": true,
    "editable": true
   },
   "source": [
    "## Preprocess all the data and save it\n",
    "Running the code cell below will preprocess all the CIFAR-10 data and save it to file. The code below also uses 10% of the training data for validation."
   ]
  },
  {
   "cell_type": "code",
   "execution_count": 7,
   "metadata": {
    "collapsed": false,
    "deletable": true,
    "editable": true
   },
   "outputs": [],
   "source": [
    "\"\"\"\n",
    "DON'T MODIFY ANYTHING IN THIS CELL\n",
    "\"\"\"\n",
    "# Preprocess Training, Validation, and Testing Data\n",
    "helper.preprocess_and_save_data(cifar10_dataset_folder_path, normalize, one_hot_encode)"
   ]
  },
  {
   "cell_type": "markdown",
   "metadata": {
    "deletable": true,
    "editable": true
   },
   "source": [
    "# Check Point\n",
    "This is your first checkpoint.  If you ever decide to come back to this notebook or have to restart the notebook, you can start from here.  The preprocessed data has been saved to disk."
   ]
  },
  {
   "cell_type": "code",
   "execution_count": 8,
   "metadata": {
    "collapsed": true,
    "deletable": true,
    "editable": true
   },
   "outputs": [],
   "source": [
    "\"\"\"\n",
    "DON'T MODIFY ANYTHING IN THIS CELL\n",
    "\"\"\"\n",
    "import pickle\n",
    "import problem_unittests as tests\n",
    "import helper\n",
    "\n",
    "# Load the Preprocessed Validation data\n",
    "valid_features, valid_labels = pickle.load(open('preprocess_validation.p', mode='rb'))"
   ]
  },
  {
   "cell_type": "markdown",
   "metadata": {
    "deletable": true,
    "editable": true
   },
   "source": [
    "## Build the network\n",
    "For the neural network, you'll build each layer into a function.  Most of the code you've seen has been outside of functions. To test your code more thoroughly, we require that you put each layer in a function.  This allows us to give you better feedback and test for simple mistakes using our unittests before you submit your project.\n",
    "\n",
    ">**Note:** If you're finding it hard to dedicate enough time for this course each week, we've provided a small shortcut to this part of the project. In the next couple of problems, you'll have the option to use classes from the [TensorFlow Layers](https://www.tensorflow.org/api_docs/python/tf/layers) or [TensorFlow Layers (contrib)](https://www.tensorflow.org/api_guides/python/contrib.layers) packages to build each layer, except the layers you build in the \"Convolutional and Max Pooling Layer\" section.  TF Layers is similar to Keras's and TFLearn's abstraction to layers, so it's easy to pickup.\n",
    "\n",
    ">However, if you would like to get the most out of this course, try to solve all the problems _without_ using anything from the TF Layers packages. You **can** still use classes from other packages that happen to have the same name as ones you find in TF Layers! For example, instead of using the TF Layers version of the `conv2d` class, [tf.layers.conv2d](https://www.tensorflow.org/api_docs/python/tf/layers/conv2d), you would want to use the TF Neural Network version of `conv2d`, [tf.nn.conv2d](https://www.tensorflow.org/api_docs/python/tf/nn/conv2d). \n",
    "\n",
    "Let's begin!\n",
    "\n",
    "### Input\n",
    "The neural network needs to read the image data, one-hot encoded labels, and dropout keep probability. Implement the following functions\n",
    "* Implement `neural_net_image_input`\n",
    " * Return a [TF Placeholder](https://www.tensorflow.org/api_docs/python/tf/placeholder)\n",
    " * Set the shape using `image_shape` with batch size set to `None`.\n",
    " * Name the TensorFlow placeholder \"x\" using the TensorFlow `name` parameter in the [TF Placeholder](https://www.tensorflow.org/api_docs/python/tf/placeholder).\n",
    "* Implement `neural_net_label_input`\n",
    " * Return a [TF Placeholder](https://www.tensorflow.org/api_docs/python/tf/placeholder)\n",
    " * Set the shape using `n_classes` with batch size set to `None`.\n",
    " * Name the TensorFlow placeholder \"y\" using the TensorFlow `name` parameter in the [TF Placeholder](https://www.tensorflow.org/api_docs/python/tf/placeholder).\n",
    "* Implement `neural_net_keep_prob_input`\n",
    " * Return a [TF Placeholder](https://www.tensorflow.org/api_docs/python/tf/placeholder) for dropout keep probability.\n",
    " * Name the TensorFlow placeholder \"keep_prob\" using the TensorFlow `name` parameter in the [TF Placeholder](https://www.tensorflow.org/api_docs/python/tf/placeholder).\n",
    "\n",
    "These names will be used at the end of the project to load your saved model.\n",
    "\n",
    "Note: `None` for shapes in TensorFlow allow for a dynamic size."
   ]
  },
  {
   "cell_type": "code",
   "execution_count": 9,
   "metadata": {
    "collapsed": false,
    "deletable": true,
    "editable": true
   },
   "outputs": [
    {
     "name": "stdout",
     "output_type": "stream",
     "text": [
      "Image Input Tests Passed.\n",
      "Label Input Tests Passed.\n",
      "Keep Prob Tests Passed.\n"
     ]
    }
   ],
   "source": [
    "import tensorflow as tf\n",
    "\n",
    "def neural_net_image_input(image_shape):\n",
    "    \"\"\"\n",
    "    Return a Tensor for a batch of image input\n",
    "    : image_shape: Shape of the images\n",
    "    : return: Tensor for image input.\n",
    "    \"\"\"\n",
    "    # TODO: Implement Function\n",
    "    return tf.placeholder(tf.float32, shape = [None,32,32,3], name='x')\n",
    "\n",
    "\n",
    "def neural_net_label_input(n_classes):\n",
    "    \"\"\"\n",
    "    Return a Tensor for a batch of label input\n",
    "    : n_classes: Number of classes\n",
    "    : return: Tensor for label input.\n",
    "    \"\"\"\n",
    "    # TODO: Implement Function\n",
    "    return tf.placeholder(tf.float32, shape = [None, n_classes], name = 'y')\n",
    "\n",
    "\n",
    "def neural_net_keep_prob_input():\n",
    "    \"\"\"\n",
    "    Return a Tensor for keep probability\n",
    "    : return: Tensor for keep probability.\n",
    "    \"\"\"\n",
    "    # TODO: Implement Function\n",
    "    return tf.placeholder(tf.float32, name = 'keep_prob')\n",
    "\n",
    "\n",
    "\"\"\"\n",
    "DON'T MODIFY ANYTHING IN THIS CELL THAT IS BELOW THIS LINE\n",
    "\"\"\"\n",
    "tf.reset_default_graph()\n",
    "tests.test_nn_image_inputs(neural_net_image_input)\n",
    "tests.test_nn_label_inputs(neural_net_label_input)\n",
    "tests.test_nn_keep_prob_inputs(neural_net_keep_prob_input)"
   ]
  },
  {
   "cell_type": "markdown",
   "metadata": {
    "deletable": true,
    "editable": true
   },
   "source": [
    "### Convolution and Max Pooling Layer\n",
    "Convolution layers have a lot of success with images. For this code cell, you should implement the function `conv2d_maxpool` to apply convolution then max pooling:\n",
    "* Create the weight and bias using `conv_ksize`, `conv_num_outputs` and the shape of `x_tensor`.\n",
    "* Apply a convolution to `x_tensor` using weight and `conv_strides`.\n",
    " * We recommend you use same padding, but you're welcome to use any padding.\n",
    "* Add bias\n",
    "* Add a nonlinear activation to the convolution.\n",
    "* Apply Max Pooling using `pool_ksize` and `pool_strides`.\n",
    " * We recommend you use same padding, but you're welcome to use any padding.\n",
    "\n",
    "**Note:** You **can't** use [TensorFlow Layers](https://www.tensorflow.org/api_docs/python/tf/layers) or [TensorFlow Layers (contrib)](https://www.tensorflow.org/api_guides/python/contrib.layers) for **this** layer, but you can still use TensorFlow's [Neural Network](https://www.tensorflow.org/api_docs/python/tf/nn) package. You may still use the shortcut option for all the **other** layers."
   ]
  },
  {
   "cell_type": "code",
   "execution_count": 164,
   "metadata": {
    "collapsed": false,
    "deletable": true,
    "editable": true
   },
   "outputs": [
    {
     "name": "stdout",
     "output_type": "stream",
     "text": [
      "Tests Passed\n"
     ]
    }
   ],
   "source": [
    "def conv2d_maxpool(x_tensor, conv_num_outputs, conv_ksize, conv_strides, pool_ksize, pool_strides):\n",
    "    \"\"\"\n",
    "    Apply convolution then max pooling to x_tensor\n",
    "    :param x_tensor: TensorFlow Tensor\n",
    "    :param conv_num_outputs: Number of outputs for the convolutional layer\n",
    "    :param conv_ksize: kernal size 2-D Tuple for the convolutional layer\n",
    "    :param conv_strides: Stride 2-D Tuple for convolution\n",
    "    :param pool_ksize: kernal size 2-D Tuple for pool\n",
    "    :param pool_strides: Stride 2-D Tuple for pool\n",
    "    : return: A tensor that represents convolution and max pooling of x_tensor\n",
    "    \"\"\"\n",
    "    # TODO: Implement Function\n",
    "    # Convolution filter\n",
    "    filter_size_width = x_tensor.get_shape().as_list()[1];\n",
    "    filter_size_height = x_tensor.get_shape().as_list()[2];\n",
    "    color_channels = x_tensor.get_shape().as_list()[3];\n",
    "\n",
    "    # Weight and bias\n",
    "    #weight = tf.Variable(tf.truncated_normal([filter_size_height, filter_size_width,color_channels,conv_num_outputs], mean=0.0,stddev=0.1))\n",
    "    conv_channels = x_tensor.get_shape().as_list()[3]\n",
    "    weight = tf.Variable(tf.truncated_normal([conv_ksize[0], conv_ksize[1], conv_channels, conv_num_outputs], stddev=0.05))\n",
    "    # Bias\n",
    "    bias = tf.Variable(tf.zeros(conv_num_outputs))\n",
    "    #bias = tf.Variable(tf.random_normal([conv_num_outputs]))\n",
    "    \n",
    "    # Apply Convolution\n",
    "    conv_layer = tf.nn.conv2d(x_tensor, weight, strides=[1, conv_strides[0], conv_strides[1], 1], padding='SAME')\n",
    "    \n",
    "    # Add bias\n",
    "    conv_layer = tf.nn.bias_add(conv_layer, bias)\n",
    "    \n",
    "    # Apply activation function\n",
    "    conv_layer = tf.nn.relu(conv_layer)\n",
    "    \n",
    "    return tf.nn.max_pool(conv_layer, ksize=[1,pool_ksize[0],pool_ksize[1],1], strides=[1,pool_strides[0],pool_strides[1],1], padding='SAME' )\n",
    "\n",
    "\n",
    "\"\"\"\n",
    "DON'T MODIFY ANYTHING IN THIS CELL THAT IS BELOW THIS LINE\n",
    "\"\"\"\n",
    "tests.test_con_pool(conv2d_maxpool)"
   ]
  },
  {
   "cell_type": "markdown",
   "metadata": {
    "deletable": true,
    "editable": true
   },
   "source": [
    "### Flatten Layer\n",
    "Implement the `flatten` function to change the dimension of `x_tensor` from a 4-D tensor to a 2-D tensor.  The output should be the shape (*Batch Size*, *Flattened Image Size*). Shortcut option: you can use classes from the [TensorFlow Layers](https://www.tensorflow.org/api_docs/python/tf/layers) or [TensorFlow Layers (contrib)](https://www.tensorflow.org/api_guides/python/contrib.layers) packages for this layer. For more of a challenge, only use other TensorFlow packages."
   ]
  },
  {
   "cell_type": "code",
   "execution_count": 165,
   "metadata": {
    "collapsed": false,
    "deletable": true,
    "editable": true
   },
   "outputs": [
    {
     "name": "stdout",
     "output_type": "stream",
     "text": [
      "Tests Passed\n"
     ]
    }
   ],
   "source": [
    "def flatten(x_tensor):\n",
    "    \"\"\"\n",
    "    Flatten x_tensor to (Batch Size, Flattened Image Size)\n",
    "    : x_tensor: A tensor of size (Batch Size, ...), where ... are the image dimensions.\n",
    "    : return: A tensor of size (Batch Size, Flattened Image Size).\n",
    "    \"\"\"\n",
    "    # TODO: Implement Function\n",
    "    return tf.reshape(x_tensor, [-1, int(x_tensor.shape[1]) * int(x_tensor.shape[2]) * int(x_tensor.shape[3])])\n",
    "\n",
    "\n",
    "\"\"\"\n",
    "DON'T MODIFY ANYTHING IN THIS CELL THAT IS BELOW THIS LINE\n",
    "\"\"\"\n",
    "tests.test_flatten(flatten)"
   ]
  },
  {
   "cell_type": "markdown",
   "metadata": {
    "deletable": true,
    "editable": true
   },
   "source": [
    "### Fully-Connected Layer\n",
    "Implement the `fully_conn` function to apply a fully connected layer to `x_tensor` with the shape (*Batch Size*, *num_outputs*). Shortcut option: you can use classes from the [TensorFlow Layers](https://www.tensorflow.org/api_docs/python/tf/layers) or [TensorFlow Layers (contrib)](https://www.tensorflow.org/api_guides/python/contrib.layers) packages for this layer. For more of a challenge, only use other TensorFlow packages."
   ]
  },
  {
   "cell_type": "code",
   "execution_count": 168,
   "metadata": {
    "collapsed": false,
    "deletable": true,
    "editable": true
   },
   "outputs": [
    {
     "name": "stdout",
     "output_type": "stream",
     "text": [
      "Tests Passed\n"
     ]
    }
   ],
   "source": [
    "def fully_conn(x_tensor, num_outputs):\n",
    "    \"\"\"\n",
    "    Apply a fully connected layer to x_tensor using weight and bias\n",
    "    : x_tensor: A 2-D tensor where the first dimension is batch size.\n",
    "    : num_outputs: The number of output that the new tensor should be.\n",
    "    : return: A 2-D tensor where the second dimension is num_outputs.\n",
    "    \"\"\"\n",
    "    # TODO: Implement Function\n",
    "    return tf.layers.dense(inputs=x_tensor, units=num_outputs, activation=tf.nn.relu)\n",
    "\n",
    "\n",
    "\"\"\"\n",
    "DON'T MODIFY ANYTHING IN THIS CELL THAT IS BELOW THIS LINE\n",
    "\"\"\"\n",
    "tests.test_fully_conn(fully_conn)"
   ]
  },
  {
   "cell_type": "markdown",
   "metadata": {
    "deletable": true,
    "editable": true
   },
   "source": [
    "### Output Layer\n",
    "Implement the `output` function to apply a fully connected layer to `x_tensor` with the shape (*Batch Size*, *num_outputs*). Shortcut option: you can use classes from the [TensorFlow Layers](https://www.tensorflow.org/api_docs/python/tf/layers) or [TensorFlow Layers (contrib)](https://www.tensorflow.org/api_guides/python/contrib.layers) packages for this layer. For more of a challenge, only use other TensorFlow packages.\n",
    "\n",
    "**Note:** Activation, softmax, or cross entropy should **not** be applied to this."
   ]
  },
  {
   "cell_type": "code",
   "execution_count": 169,
   "metadata": {
    "collapsed": false,
    "deletable": true,
    "editable": true
   },
   "outputs": [
    {
     "name": "stdout",
     "output_type": "stream",
     "text": [
      "Tests Passed\n"
     ]
    }
   ],
   "source": [
    "def output(x_tensor, num_outputs):\n",
    "    \"\"\"\n",
    "    Apply a output layer to x_tensor using weight and bias\n",
    "    : x_tensor: A 2-D tensor where the first dimension is batch size.\n",
    "    : num_outputs: The number of output that the new tensor should be.\n",
    "    : return: A 2-D tensor where the second dimension is num_outputs.\n",
    "    \"\"\"\n",
    "    # TODO: Implement Function\n",
    "    return tf.layers.dense(inputs=x_tensor, units=num_outputs)\n",
    "\n",
    "\n",
    "\"\"\"\n",
    "DON'T MODIFY ANYTHING IN THIS CELL THAT IS BELOW THIS LINE\n",
    "\"\"\"\n",
    "tests.test_output(output)"
   ]
  },
  {
   "cell_type": "markdown",
   "metadata": {
    "deletable": true,
    "editable": true
   },
   "source": [
    "### Create Convolutional Model\n",
    "Implement the function `conv_net` to create a convolutional neural network model. The function takes in a batch of images, `x`, and outputs logits.  Use the layers you created above to create this model:\n",
    "\n",
    "* Apply 1, 2, or 3 Convolution and Max Pool layers\n",
    "* Apply a Flatten Layer\n",
    "* Apply 1, 2, or 3 Fully Connected Layers\n",
    "* Apply an Output Layer\n",
    "* Return the output\n",
    "* Apply [TensorFlow's Dropout](https://www.tensorflow.org/api_docs/python/tf/nn/dropout) to one or more layers in the model using `keep_prob`. "
   ]
  },
  {
   "cell_type": "code",
   "execution_count": 170,
   "metadata": {
    "collapsed": false,
    "deletable": true,
    "editable": true
   },
   "outputs": [
    {
     "name": "stdout",
     "output_type": "stream",
     "text": [
      "Tensor(\"Reshape:0\", shape=(?, 288), dtype=float32)\n",
      "Tensor(\"Reshape_4:0\", shape=(?, 288), dtype=float32)\n",
      "Neural Network Built!\n"
     ]
    }
   ],
   "source": [
    "def conv_net(x, keep_prob):\n",
    "    \"\"\"\n",
    "    Create a convolutional neural network model\n",
    "    : x: Placeholder tensor that holds image data.\n",
    "    : keep_prob: Placeholder tensor that hold dropout keep probability.\n",
    "    : return: Tensor that represents logits\n",
    "    \"\"\"\n",
    "    # TODO: Apply 1, 2, or 3 Convolution and Max Pool layers\n",
    "    #    Play around with different number of outputs, kernel size and stride\n",
    "    # Function Definition from Above:\n",
    "    #    conv2d_maxpool(x_tensor, conv_num_outputs, conv_ksize, conv_strides, pool_ksize, pool_strides)\n",
    "    \n",
    "    conv_ksize = (5,5)\n",
    "    \n",
    "    layer = conv2d_maxpool(x,14,conv_ksize, (1, 1), (2, 2), (2, 2))\n",
    "    #layer = conv2d_maxpool(x,20,(3, 3), (1, 1), (2, 2), (2, 2))\n",
    "    #layer = tf.nn.dropout(layer, keep_prob)\n",
    "    layer = conv2d_maxpool(layer,16,conv_ksize, (1, 1), (2, 2), (2, 2))\n",
    "    layer = conv2d_maxpool(layer,18,conv_ksize, (1, 1), (2, 2), (2, 2))\n",
    "    #layer = tf.nn.dropout(layer, keep_prob)\n",
    "    # TODO: Apply a Flatten Layer\n",
    "    # Function Definition from Above:\n",
    "    #   flatten(x_tensor)\n",
    "    layer = flatten(layer)\n",
    "    print(layer)\n",
    "\n",
    "    # TODO: Apply 1, 2, or 3 Fully Connected Layers\n",
    "    #    Play around with different number of outputs\n",
    "    # Function Definition from Above:\n",
    "    #   fully_conn(x_tensor, num_outputs)\n",
    "    #layer = fully_conn(layer,712) \n",
    "    #layer = tf.nn.dropout(layer, keep_prob)   \n",
    "    \n",
    "    layer = fully_conn(layer,512) \n",
    "    layer = tf.nn.dropout(layer, keep_prob) \n",
    "    \n",
    "\n",
    "    \n",
    "    # TODO: Apply an Output Layer\n",
    "    #    Set this to the number of classes\n",
    "    # Function Definition from Above:\n",
    "    #   output(x_tensor, num_outputs)\n",
    "    layer = output(layer,10)\n",
    "    \n",
    "    # TODO: return output\n",
    "    return layer\n",
    "\n",
    "\n",
    "\"\"\"\n",
    "DON'T MODIFY ANYTHING IN THIS CELL THAT IS BELOW THIS LINE\n",
    "\"\"\"\n",
    "\n",
    "##############################\n",
    "## Build the Neural Network ##\n",
    "##############################\n",
    "\n",
    "# Remove previous weights, bias, inputs, etc..\n",
    "tf.reset_default_graph()\n",
    "\n",
    "# Inputs\n",
    "x = neural_net_image_input((32, 32, 3))\n",
    "y = neural_net_label_input(10)\n",
    "keep_prob = neural_net_keep_prob_input()\n",
    "\n",
    "# Model\n",
    "logits = conv_net(x, keep_prob)\n",
    "\n",
    "# Name logits Tensor, so that is can be loaded from disk after training\n",
    "logits = tf.identity(logits, name='logits')\n",
    "\n",
    "# Loss and Optimizer\n",
    "cost = tf.reduce_mean(tf.nn.softmax_cross_entropy_with_logits(logits=logits, labels=y))\n",
    "optimizer = tf.train.AdamOptimizer().minimize(cost)\n",
    "\n",
    "# Accuracy\n",
    "correct_pred = tf.equal(tf.argmax(logits, 1), tf.argmax(y, 1))\n",
    "accuracy = tf.reduce_mean(tf.cast(correct_pred, tf.float32), name='accuracy')\n",
    "\n",
    "tests.test_conv_net(conv_net)"
   ]
  },
  {
   "cell_type": "markdown",
   "metadata": {
    "deletable": true,
    "editable": true
   },
   "source": [
    "## Train the Neural Network\n",
    "### Single Optimization\n",
    "Implement the function `train_neural_network` to do a single optimization.  The optimization should use `optimizer` to optimize in `session` with a `feed_dict` of the following:\n",
    "* `x` for image input\n",
    "* `y` for labels\n",
    "* `keep_prob` for keep probability for dropout\n",
    "\n",
    "This function will be called for each batch, so `tf.global_variables_initializer()` has already been called.\n",
    "\n",
    "Note: Nothing needs to be returned. This function is only optimizing the neural network."
   ]
  },
  {
   "cell_type": "code",
   "execution_count": 171,
   "metadata": {
    "collapsed": false,
    "deletable": true,
    "editable": true
   },
   "outputs": [
    {
     "name": "stdout",
     "output_type": "stream",
     "text": [
      "Tests Passed\n"
     ]
    }
   ],
   "source": [
    "def train_neural_network(session, optimizer, keep_probability, feature_batch, label_batch):\n",
    "    \"\"\"\n",
    "    Optimize the session on a batch of images and labels\n",
    "    : session: Current TensorFlow session\n",
    "    : optimizer: TensorFlow optimizer function\n",
    "    : keep_probability: keep probability\n",
    "    : feature_batch: Batch of Numpy image data\n",
    "    : label_batch: Batch of Numpy label data\n",
    "    \"\"\"\n",
    "    # TODO: Implement Function\n",
    "    session.run(optimizer, feed_dict={x:feature_batch, y:label_batch, keep_prob:keep_probability})\n",
    "    \n",
    "\n",
    "\n",
    "\"\"\"\n",
    "DON'T MODIFY ANYTHING IN THIS CELL THAT IS BELOW THIS LINE\n",
    "\"\"\"\n",
    "tests.test_train_nn(train_neural_network)"
   ]
  },
  {
   "cell_type": "markdown",
   "metadata": {
    "deletable": true,
    "editable": true
   },
   "source": [
    "### Show Stats\n",
    "Implement the function `print_stats` to print loss and validation accuracy.  Use the global variables `valid_features` and `valid_labels` to calculate validation accuracy.  Use a keep probability of `1.0` to calculate the loss and validation accuracy."
   ]
  },
  {
   "cell_type": "code",
   "execution_count": 172,
   "metadata": {
    "collapsed": false,
    "deletable": true,
    "editable": true
   },
   "outputs": [],
   "source": [
    "def print_stats(session, feature_batch, label_batch, cost, accuracy):\n",
    "    \"\"\"\n",
    "    Print information about loss and validation accuracy\n",
    "    : session: Current TensorFlow session\n",
    "    : feature_batch: Batch of Numpy image data\n",
    "    : label_batch: Batch of Numpy label data\n",
    "    : cost: TensorFlow cost function\n",
    "    : accuracy: TensorFlow accuracy function\n",
    "    \"\"\"\n",
    "    # TODO: Implement Function\n",
    "    loss = sess.run(cost, feed_dict={x:feature_batch, y:label_batch, keep_prob: 1.0})   \n",
    "    valid_acc = sess.run(accuracy, feed_dict={x:valid_features, y:valid_labels, keep_prob: 1.0})    \n",
    "    \n",
    "    print('Loss: {:>10.4f} Validation Accuracy: {:.6f}'.format(loss,valid_acc))"
   ]
  },
  {
   "cell_type": "markdown",
   "metadata": {
    "deletable": true,
    "editable": true
   },
   "source": [
    "### Hyperparameters\n",
    "Tune the following parameters:\n",
    "* Set `epochs` to the number of iterations until the network stops learning or start overfitting\n",
    "* Set `batch_size` to the highest number that your machine has memory for.  Most people set them to common sizes of memory:\n",
    " * 64\n",
    " * 128\n",
    " * 256\n",
    " * ...\n",
    "* Set `keep_probability` to the probability of keeping a node using dropout"
   ]
  },
  {
   "cell_type": "code",
   "execution_count": 174,
   "metadata": {
    "collapsed": true,
    "deletable": true,
    "editable": true
   },
   "outputs": [],
   "source": [
    "# TODO: Tune Parameters\n",
    "epochs = 50\n",
    "batch_size = 512\n",
    "keep_probability = 0.7"
   ]
  },
  {
   "cell_type": "markdown",
   "metadata": {
    "deletable": true,
    "editable": true
   },
   "source": [
    "### Train on a Single CIFAR-10 Batch\n",
    "Instead of training the neural network on all the CIFAR-10 batches of data, let's use a single batch. This should save time while you iterate on the model to get a better accuracy.  Once the final validation accuracy is 50% or greater, run the model on all the data in the next section."
   ]
  },
  {
   "cell_type": "code",
   "execution_count": 175,
   "metadata": {
    "collapsed": false,
    "deletable": true,
    "editable": true
   },
   "outputs": [
    {
     "name": "stdout",
     "output_type": "stream",
     "text": [
      "Checking the Training on a Single Batch...\n",
      "Epoch  1, CIFAR-10 Batch 2:  Loss:     2.0336 Validation Accuracy: 0.278800\n",
      "Epoch  2, CIFAR-10 Batch 2:  Loss:     1.8648 Validation Accuracy: 0.315000\n",
      "Epoch  3, CIFAR-10 Batch 2:  Loss:     1.7588 Validation Accuracy: 0.376600\n",
      "Epoch  4, CIFAR-10 Batch 2:  Loss:     1.6940 Validation Accuracy: 0.393800\n",
      "Epoch  5, CIFAR-10 Batch 2:  Loss:     1.6606 Validation Accuracy: 0.398000\n",
      "Epoch  6, CIFAR-10 Batch 2:  Loss:     1.5874 Validation Accuracy: 0.414600\n",
      "Epoch  7, CIFAR-10 Batch 2:  Loss:     1.5451 Validation Accuracy: 0.427800\n",
      "Epoch  8, CIFAR-10 Batch 2:  Loss:     1.5103 Validation Accuracy: 0.437000\n",
      "Epoch  9, CIFAR-10 Batch 2:  Loss:     1.4822 Validation Accuracy: 0.438400\n",
      "Epoch 10, CIFAR-10 Batch 2:  Loss:     1.4589 Validation Accuracy: 0.448200\n",
      "Epoch 11, CIFAR-10 Batch 2:  Loss:     1.4177 Validation Accuracy: 0.455400\n",
      "Epoch 12, CIFAR-10 Batch 2:  Loss:     1.4194 Validation Accuracy: 0.459200\n",
      "Epoch 13, CIFAR-10 Batch 2:  Loss:     1.3651 Validation Accuracy: 0.474800\n",
      "Epoch 14, CIFAR-10 Batch 2:  Loss:     1.3477 Validation Accuracy: 0.476800\n",
      "Epoch 15, CIFAR-10 Batch 2:  Loss:     1.3251 Validation Accuracy: 0.480800\n",
      "Epoch 16, CIFAR-10 Batch 2:  Loss:     1.2945 Validation Accuracy: 0.492600\n",
      "Epoch 17, CIFAR-10 Batch 2:  Loss:     1.2650 Validation Accuracy: 0.492200\n",
      "Epoch 18, CIFAR-10 Batch 2:  Loss:     1.2429 Validation Accuracy: 0.500800\n",
      "Epoch 19, CIFAR-10 Batch 2:  Loss:     1.2158 Validation Accuracy: 0.510000\n",
      "Epoch 20, CIFAR-10 Batch 2:  Loss:     1.1853 Validation Accuracy: 0.515600\n",
      "Epoch 21, CIFAR-10 Batch 2:  Loss:     1.1673 Validation Accuracy: 0.516000\n",
      "Epoch 22, CIFAR-10 Batch 2:  Loss:     1.1221 Validation Accuracy: 0.525400\n",
      "Epoch 23, CIFAR-10 Batch 2:  Loss:     1.1017 Validation Accuracy: 0.522200\n",
      "Epoch 24, CIFAR-10 Batch 2:  Loss:     1.0754 Validation Accuracy: 0.526000\n",
      "Epoch 25, CIFAR-10 Batch 2:  Loss:     1.0486 Validation Accuracy: 0.530800\n",
      "Epoch 26, CIFAR-10 Batch 2:  Loss:     1.0279 Validation Accuracy: 0.532200\n",
      "Epoch 27, CIFAR-10 Batch 2:  Loss:     1.0360 Validation Accuracy: 0.513600\n",
      "Epoch 28, CIFAR-10 Batch 2:  Loss:     1.0145 Validation Accuracy: 0.522000\n",
      "Epoch 29, CIFAR-10 Batch 2:  Loss:     0.9863 Validation Accuracy: 0.527200\n",
      "Epoch 30, CIFAR-10 Batch 2:  Loss:     0.9679 Validation Accuracy: 0.529400\n",
      "Epoch 31, CIFAR-10 Batch 2:  Loss:     0.9631 Validation Accuracy: 0.534400\n",
      "Epoch 32, CIFAR-10 Batch 2:  Loss:     0.9200 Validation Accuracy: 0.540600\n",
      "Epoch 33, CIFAR-10 Batch 2:  Loss:     0.8815 Validation Accuracy: 0.548600\n",
      "Epoch 34, CIFAR-10 Batch 2:  Loss:     0.8875 Validation Accuracy: 0.534600\n",
      "Epoch 35, CIFAR-10 Batch 2:  Loss:     0.8638 Validation Accuracy: 0.545200\n",
      "Epoch 36, CIFAR-10 Batch 2:  Loss:     0.8238 Validation Accuracy: 0.553000\n",
      "Epoch 37, CIFAR-10 Batch 2:  Loss:     0.8068 Validation Accuracy: 0.546200\n",
      "Epoch 38, CIFAR-10 Batch 2:  Loss:     0.7618 Validation Accuracy: 0.555600\n",
      "Epoch 39, CIFAR-10 Batch 2:  Loss:     0.7526 Validation Accuracy: 0.554600\n",
      "Epoch 40, CIFAR-10 Batch 2:  Loss:     0.7247 Validation Accuracy: 0.563400\n",
      "Epoch 41, CIFAR-10 Batch 2:  Loss:     0.6996 Validation Accuracy: 0.568200\n",
      "Epoch 42, CIFAR-10 Batch 2:  Loss:     0.6707 Validation Accuracy: 0.564800\n",
      "Epoch 43, CIFAR-10 Batch 2:  Loss:     0.6532 Validation Accuracy: 0.567200\n",
      "Epoch 44, CIFAR-10 Batch 2:  Loss:     0.6411 Validation Accuracy: 0.567600\n",
      "Epoch 45, CIFAR-10 Batch 2:  Loss:     0.6272 Validation Accuracy: 0.566800\n",
      "Epoch 46, CIFAR-10 Batch 2:  Loss:     0.6144 Validation Accuracy: 0.566200\n",
      "Epoch 47, CIFAR-10 Batch 2:  Loss:     0.5905 Validation Accuracy: 0.569000\n",
      "Epoch 48, CIFAR-10 Batch 2:  Loss:     0.5736 Validation Accuracy: 0.569200\n",
      "Epoch 49, CIFAR-10 Batch 2:  Loss:     0.5457 Validation Accuracy: 0.569400\n",
      "Epoch 50, CIFAR-10 Batch 2:  Loss:     0.5216 Validation Accuracy: 0.575400\n"
     ]
    }
   ],
   "source": [
    "\"\"\"\n",
    "DON'T MODIFY ANYTHING IN THIS CELL\n",
    "\"\"\"\n",
    "print('Checking the Training on a Single Batch...')\n",
    "with tf.Session() as sess:\n",
    "    # Initializing the variables\n",
    "    sess.run(tf.global_variables_initializer())\n",
    "    \n",
    "    # Training cycle\n",
    "    for epoch in range(epochs):\n",
    "        batch_i = 2\n",
    "        for batch_features, batch_labels in helper.load_preprocess_training_batch(batch_i, batch_size):\n",
    "            train_neural_network(sess, optimizer, keep_probability, batch_features, batch_labels)\n",
    "        print('Epoch {:>2}, CIFAR-10 Batch {}:  '.format(epoch + 1, batch_i), end='')\n",
    "        print_stats(sess, batch_features, batch_labels, cost, accuracy)"
   ]
  },
  {
   "cell_type": "markdown",
   "metadata": {
    "deletable": true,
    "editable": true
   },
   "source": [
    "### Fully Train the Model\n",
    "Now that you got a good accuracy with a single CIFAR-10 batch, try it with all five batches."
   ]
  },
  {
   "cell_type": "code",
   "execution_count": 176,
   "metadata": {
    "collapsed": false,
    "deletable": true,
    "editable": true
   },
   "outputs": [
    {
     "name": "stdout",
     "output_type": "stream",
     "text": [
      "Training...\n",
      "Epoch  1, CIFAR-10 Batch 1:  Loss:     2.0663 Validation Accuracy: 0.265800\n",
      "Epoch  1, CIFAR-10 Batch 2:  Loss:     1.9542 Validation Accuracy: 0.292600\n",
      "Epoch  1, CIFAR-10 Batch 3:  Loss:     1.7556 Validation Accuracy: 0.343800\n",
      "Epoch  1, CIFAR-10 Batch 4:  Loss:     1.7152 Validation Accuracy: 0.336400\n",
      "Epoch  1, CIFAR-10 Batch 5:  Loss:     1.7469 Validation Accuracy: 0.375600\n",
      "Epoch  2, CIFAR-10 Batch 1:  Loss:     1.7816 Validation Accuracy: 0.380200\n",
      "Epoch  2, CIFAR-10 Batch 2:  Loss:     1.6305 Validation Accuracy: 0.419000\n",
      "Epoch  2, CIFAR-10 Batch 3:  Loss:     1.3902 Validation Accuracy: 0.429200\n",
      "Epoch  2, CIFAR-10 Batch 4:  Loss:     1.4733 Validation Accuracy: 0.435200\n",
      "Epoch  2, CIFAR-10 Batch 5:  Loss:     1.5407 Validation Accuracy: 0.444200\n",
      "Epoch  3, CIFAR-10 Batch 1:  Loss:     1.5435 Validation Accuracy: 0.453800\n",
      "Epoch  3, CIFAR-10 Batch 2:  Loss:     1.4353 Validation Accuracy: 0.479800\n",
      "Epoch  3, CIFAR-10 Batch 3:  Loss:     1.2508 Validation Accuracy: 0.473000\n",
      "Epoch  3, CIFAR-10 Batch 4:  Loss:     1.3353 Validation Accuracy: 0.488000\n",
      "Epoch  3, CIFAR-10 Batch 5:  Loss:     1.3832 Validation Accuracy: 0.479800\n",
      "Epoch  4, CIFAR-10 Batch 1:  Loss:     1.4337 Validation Accuracy: 0.508000\n",
      "Epoch  4, CIFAR-10 Batch 2:  Loss:     1.3875 Validation Accuracy: 0.501400\n",
      "Epoch  4, CIFAR-10 Batch 3:  Loss:     1.1658 Validation Accuracy: 0.507200\n",
      "Epoch  4, CIFAR-10 Batch 4:  Loss:     1.2400 Validation Accuracy: 0.521600\n",
      "Epoch  4, CIFAR-10 Batch 5:  Loss:     1.2960 Validation Accuracy: 0.513200\n",
      "Epoch  5, CIFAR-10 Batch 1:  Loss:     1.3558 Validation Accuracy: 0.531400\n",
      "Epoch  5, CIFAR-10 Batch 2:  Loss:     1.3044 Validation Accuracy: 0.512400\n",
      "Epoch  5, CIFAR-10 Batch 3:  Loss:     1.0994 Validation Accuracy: 0.527200\n",
      "Epoch  5, CIFAR-10 Batch 4:  Loss:     1.1777 Validation Accuracy: 0.537200\n",
      "Epoch  5, CIFAR-10 Batch 5:  Loss:     1.2361 Validation Accuracy: 0.538600\n",
      "Epoch  6, CIFAR-10 Batch 1:  Loss:     1.3013 Validation Accuracy: 0.543000\n",
      "Epoch  6, CIFAR-10 Batch 2:  Loss:     1.2177 Validation Accuracy: 0.533000\n",
      "Epoch  6, CIFAR-10 Batch 3:  Loss:     1.0783 Validation Accuracy: 0.532400\n",
      "Epoch  6, CIFAR-10 Batch 4:  Loss:     1.1257 Validation Accuracy: 0.550000\n",
      "Epoch  6, CIFAR-10 Batch 5:  Loss:     1.1652 Validation Accuracy: 0.553200\n",
      "Epoch  7, CIFAR-10 Batch 1:  Loss:     1.2594 Validation Accuracy: 0.553200\n",
      "Epoch  7, CIFAR-10 Batch 2:  Loss:     1.1599 Validation Accuracy: 0.551600\n",
      "Epoch  7, CIFAR-10 Batch 3:  Loss:     1.0507 Validation Accuracy: 0.551600\n",
      "Epoch  7, CIFAR-10 Batch 4:  Loss:     1.0743 Validation Accuracy: 0.560200\n",
      "Epoch  7, CIFAR-10 Batch 5:  Loss:     1.1361 Validation Accuracy: 0.561800\n",
      "Epoch  8, CIFAR-10 Batch 1:  Loss:     1.2316 Validation Accuracy: 0.567200\n",
      "Epoch  8, CIFAR-10 Batch 2:  Loss:     1.1017 Validation Accuracy: 0.560200\n",
      "Epoch  8, CIFAR-10 Batch 3:  Loss:     1.0145 Validation Accuracy: 0.567000\n",
      "Epoch  8, CIFAR-10 Batch 4:  Loss:     1.0348 Validation Accuracy: 0.575000\n",
      "Epoch  8, CIFAR-10 Batch 5:  Loss:     1.0910 Validation Accuracy: 0.577000\n",
      "Epoch  9, CIFAR-10 Batch 1:  Loss:     1.1646 Validation Accuracy: 0.575200\n",
      "Epoch  9, CIFAR-10 Batch 2:  Loss:     1.0734 Validation Accuracy: 0.566400\n",
      "Epoch  9, CIFAR-10 Batch 3:  Loss:     0.9860 Validation Accuracy: 0.576600\n",
      "Epoch  9, CIFAR-10 Batch 4:  Loss:     0.9908 Validation Accuracy: 0.582400\n",
      "Epoch  9, CIFAR-10 Batch 5:  Loss:     1.0421 Validation Accuracy: 0.589400\n",
      "Epoch 10, CIFAR-10 Batch 1:  Loss:     1.1352 Validation Accuracy: 0.585000\n",
      "Epoch 10, CIFAR-10 Batch 2:  Loss:     1.0382 Validation Accuracy: 0.582400\n",
      "Epoch 10, CIFAR-10 Batch 3:  Loss:     0.9460 Validation Accuracy: 0.588400\n",
      "Epoch 10, CIFAR-10 Batch 4:  Loss:     0.9484 Validation Accuracy: 0.592600\n",
      "Epoch 10, CIFAR-10 Batch 5:  Loss:     1.0126 Validation Accuracy: 0.590800\n",
      "Epoch 11, CIFAR-10 Batch 1:  Loss:     1.0820 Validation Accuracy: 0.597800\n",
      "Epoch 11, CIFAR-10 Batch 2:  Loss:     0.9939 Validation Accuracy: 0.592600\n",
      "Epoch 11, CIFAR-10 Batch 3:  Loss:     0.9095 Validation Accuracy: 0.595200\n",
      "Epoch 11, CIFAR-10 Batch 4:  Loss:     0.9142 Validation Accuracy: 0.602200\n",
      "Epoch 11, CIFAR-10 Batch 5:  Loss:     0.9853 Validation Accuracy: 0.607600\n",
      "Epoch 12, CIFAR-10 Batch 1:  Loss:     1.0440 Validation Accuracy: 0.605400\n",
      "Epoch 12, CIFAR-10 Batch 2:  Loss:     0.9759 Validation Accuracy: 0.591600\n",
      "Epoch 12, CIFAR-10 Batch 3:  Loss:     0.8788 Validation Accuracy: 0.604200\n",
      "Epoch 12, CIFAR-10 Batch 4:  Loss:     0.8710 Validation Accuracy: 0.613200\n",
      "Epoch 12, CIFAR-10 Batch 5:  Loss:     0.9478 Validation Accuracy: 0.617800\n",
      "Epoch 13, CIFAR-10 Batch 1:  Loss:     1.0054 Validation Accuracy: 0.608600\n",
      "Epoch 13, CIFAR-10 Batch 2:  Loss:     0.9441 Validation Accuracy: 0.601000\n",
      "Epoch 13, CIFAR-10 Batch 3:  Loss:     0.8520 Validation Accuracy: 0.606200\n",
      "Epoch 13, CIFAR-10 Batch 4:  Loss:     0.8373 Validation Accuracy: 0.618000\n",
      "Epoch 13, CIFAR-10 Batch 5:  Loss:     0.9207 Validation Accuracy: 0.624800\n",
      "Epoch 14, CIFAR-10 Batch 1:  Loss:     0.9756 Validation Accuracy: 0.611200\n",
      "Epoch 14, CIFAR-10 Batch 2:  Loss:     0.8979 Validation Accuracy: 0.618800\n",
      "Epoch 14, CIFAR-10 Batch 3:  Loss:     0.8780 Validation Accuracy: 0.597800\n",
      "Epoch 14, CIFAR-10 Batch 4:  Loss:     0.8102 Validation Accuracy: 0.623800\n",
      "Epoch 14, CIFAR-10 Batch 5:  Loss:     0.8790 Validation Accuracy: 0.634400\n",
      "Epoch 15, CIFAR-10 Batch 1:  Loss:     0.9412 Validation Accuracy: 0.619200\n",
      "Epoch 15, CIFAR-10 Batch 2:  Loss:     0.8629 Validation Accuracy: 0.622600\n",
      "Epoch 15, CIFAR-10 Batch 3:  Loss:     0.8363 Validation Accuracy: 0.619200\n",
      "Epoch 15, CIFAR-10 Batch 4:  Loss:     0.7855 Validation Accuracy: 0.626600\n",
      "Epoch 15, CIFAR-10 Batch 5:  Loss:     0.8565 Validation Accuracy: 0.635600\n",
      "Epoch 16, CIFAR-10 Batch 1:  Loss:     0.9239 Validation Accuracy: 0.621600\n",
      "Epoch 16, CIFAR-10 Batch 2:  Loss:     0.8656 Validation Accuracy: 0.628800\n",
      "Epoch 16, CIFAR-10 Batch 3:  Loss:     0.8003 Validation Accuracy: 0.629800\n",
      "Epoch 16, CIFAR-10 Batch 4:  Loss:     0.7457 Validation Accuracy: 0.632600\n",
      "Epoch 16, CIFAR-10 Batch 5:  Loss:     0.8126 Validation Accuracy: 0.643000\n",
      "Epoch 17, CIFAR-10 Batch 1:  Loss:     0.9306 Validation Accuracy: 0.616000\n",
      "Epoch 17, CIFAR-10 Batch 2:  Loss:     0.8569 Validation Accuracy: 0.616800\n",
      "Epoch 17, CIFAR-10 Batch 3:  Loss:     0.7658 Validation Accuracy: 0.633400\n",
      "Epoch 17, CIFAR-10 Batch 4:  Loss:     0.7319 Validation Accuracy: 0.635400\n",
      "Epoch 17, CIFAR-10 Batch 5:  Loss:     0.7980 Validation Accuracy: 0.642600\n",
      "Epoch 18, CIFAR-10 Batch 1:  Loss:     0.8741 Validation Accuracy: 0.627200\n",
      "Epoch 18, CIFAR-10 Batch 2:  Loss:     0.8266 Validation Accuracy: 0.630200\n",
      "Epoch 18, CIFAR-10 Batch 3:  Loss:     0.7421 Validation Accuracy: 0.629000\n",
      "Epoch 18, CIFAR-10 Batch 4:  Loss:     0.7187 Validation Accuracy: 0.637000\n",
      "Epoch 18, CIFAR-10 Batch 5:  Loss:     0.7694 Validation Accuracy: 0.649400\n",
      "Epoch 19, CIFAR-10 Batch 1:  Loss:     0.8573 Validation Accuracy: 0.624400\n",
      "Epoch 19, CIFAR-10 Batch 2:  Loss:     0.8142 Validation Accuracy: 0.627200\n",
      "Epoch 19, CIFAR-10 Batch 3:  Loss:     0.7290 Validation Accuracy: 0.627600\n",
      "Epoch 19, CIFAR-10 Batch 4:  Loss:     0.7070 Validation Accuracy: 0.632600\n",
      "Epoch 19, CIFAR-10 Batch 5:  Loss:     0.7458 Validation Accuracy: 0.653200\n",
      "Epoch 20, CIFAR-10 Batch 1:  Loss:     0.8557 Validation Accuracy: 0.616200\n",
      "Epoch 20, CIFAR-10 Batch 2:  Loss:     0.8075 Validation Accuracy: 0.634600\n",
      "Epoch 20, CIFAR-10 Batch 3:  Loss:     0.6929 Validation Accuracy: 0.640200\n",
      "Epoch 20, CIFAR-10 Batch 4:  Loss:     0.6636 Validation Accuracy: 0.644600\n",
      "Epoch 20, CIFAR-10 Batch 5:  Loss:     0.7224 Validation Accuracy: 0.653800\n",
      "Epoch 21, CIFAR-10 Batch 1:  Loss:     0.8082 Validation Accuracy: 0.629600\n",
      "Epoch 21, CIFAR-10 Batch 2:  Loss:     0.7658 Validation Accuracy: 0.644200\n",
      "Epoch 21, CIFAR-10 Batch 3:  Loss:     0.6714 Validation Accuracy: 0.651000\n",
      "Epoch 21, CIFAR-10 Batch 4:  Loss:     0.6438 Validation Accuracy: 0.645600\n",
      "Epoch 21, CIFAR-10 Batch 5:  Loss:     0.6987 Validation Accuracy: 0.662000\n",
      "Epoch 22, CIFAR-10 Batch 1:  Loss:     0.7934 Validation Accuracy: 0.638400\n",
      "Epoch 22, CIFAR-10 Batch 2:  Loss:     0.7373 Validation Accuracy: 0.647000\n",
      "Epoch 22, CIFAR-10 Batch 3:  Loss:     0.6500 Validation Accuracy: 0.648200\n",
      "Epoch 22, CIFAR-10 Batch 4:  Loss:     0.6357 Validation Accuracy: 0.642600\n",
      "Epoch 22, CIFAR-10 Batch 5:  Loss:     0.6599 Validation Accuracy: 0.666800\n",
      "Epoch 23, CIFAR-10 Batch 1:  Loss:     0.7476 Validation Accuracy: 0.644000\n",
      "Epoch 23, CIFAR-10 Batch 2:  Loss:     0.7299 Validation Accuracy: 0.651200\n",
      "Epoch 23, CIFAR-10 Batch 3:  Loss:     0.6284 Validation Accuracy: 0.656800\n",
      "Epoch 23, CIFAR-10 Batch 4:  Loss:     0.5967 Validation Accuracy: 0.650800\n",
      "Epoch 23, CIFAR-10 Batch 5:  Loss:     0.6282 Validation Accuracy: 0.668800\n",
      "Epoch 24, CIFAR-10 Batch 1:  Loss:     0.7167 Validation Accuracy: 0.652400\n",
      "Epoch 24, CIFAR-10 Batch 2:  Loss:     0.7321 Validation Accuracy: 0.648200\n",
      "Epoch 24, CIFAR-10 Batch 3:  Loss:     0.6130 Validation Accuracy: 0.656200\n",
      "Epoch 24, CIFAR-10 Batch 4:  Loss:     0.5694 Validation Accuracy: 0.664000\n",
      "Epoch 24, CIFAR-10 Batch 5:  Loss:     0.6319 Validation Accuracy: 0.662400\n",
      "Epoch 25, CIFAR-10 Batch 1:  Loss:     0.6879 Validation Accuracy: 0.654200\n",
      "Epoch 25, CIFAR-10 Batch 2:  Loss:     0.7324 Validation Accuracy: 0.641000\n",
      "Epoch 25, CIFAR-10 Batch 3:  Loss:     0.6235 Validation Accuracy: 0.653400\n",
      "Epoch 25, CIFAR-10 Batch 4:  Loss:     0.5521 Validation Accuracy: 0.658600\n",
      "Epoch 25, CIFAR-10 Batch 5:  Loss:     0.6127 Validation Accuracy: 0.662400\n",
      "Epoch 26, CIFAR-10 Batch 1:  Loss:     0.6674 Validation Accuracy: 0.662600\n",
      "Epoch 26, CIFAR-10 Batch 2:  Loss:     0.6795 Validation Accuracy: 0.651200\n",
      "Epoch 26, CIFAR-10 Batch 3:  Loss:     0.5874 Validation Accuracy: 0.658000\n",
      "Epoch 26, CIFAR-10 Batch 4:  Loss:     0.5334 Validation Accuracy: 0.665800\n",
      "Epoch 26, CIFAR-10 Batch 5:  Loss:     0.5809 Validation Accuracy: 0.659600\n",
      "Epoch 27, CIFAR-10 Batch 1:  Loss:     0.6354 Validation Accuracy: 0.659000\n",
      "Epoch 27, CIFAR-10 Batch 2:  Loss:     0.6594 Validation Accuracy: 0.656400\n",
      "Epoch 27, CIFAR-10 Batch 3:  Loss:     0.5774 Validation Accuracy: 0.651400\n",
      "Epoch 27, CIFAR-10 Batch 4:  Loss:     0.5451 Validation Accuracy: 0.664600\n",
      "Epoch 27, CIFAR-10 Batch 5:  Loss:     0.5541 Validation Accuracy: 0.673200\n",
      "Epoch 28, CIFAR-10 Batch 1:  Loss:     0.6498 Validation Accuracy: 0.651400\n",
      "Epoch 28, CIFAR-10 Batch 2:  Loss:     0.6442 Validation Accuracy: 0.662400\n",
      "Epoch 28, CIFAR-10 Batch 3:  Loss:     0.5499 Validation Accuracy: 0.657600\n",
      "Epoch 28, CIFAR-10 Batch 4:  Loss:     0.5069 Validation Accuracy: 0.674800\n",
      "Epoch 28, CIFAR-10 Batch 5:  Loss:     0.5322 Validation Accuracy: 0.669200\n",
      "Epoch 29, CIFAR-10 Batch 1:  Loss:     0.6199 Validation Accuracy: 0.660800\n",
      "Epoch 29, CIFAR-10 Batch 2:  Loss:     0.6249 Validation Accuracy: 0.668200\n",
      "Epoch 29, CIFAR-10 Batch 3:  Loss:     0.5435 Validation Accuracy: 0.668000\n",
      "Epoch 29, CIFAR-10 Batch 4:  Loss:     0.5235 Validation Accuracy: 0.667000\n",
      "Epoch 29, CIFAR-10 Batch 5:  Loss:     0.5093 Validation Accuracy: 0.663600\n",
      "Epoch 30, CIFAR-10 Batch 1:  Loss:     0.5967 Validation Accuracy: 0.655600\n",
      "Epoch 30, CIFAR-10 Batch 2:  Loss:     0.6354 Validation Accuracy: 0.666200\n",
      "Epoch 30, CIFAR-10 Batch 3:  Loss:     0.5451 Validation Accuracy: 0.666400\n",
      "Epoch 30, CIFAR-10 Batch 4:  Loss:     0.4986 Validation Accuracy: 0.669200\n",
      "Epoch 30, CIFAR-10 Batch 5:  Loss:     0.5165 Validation Accuracy: 0.664000\n",
      "Epoch 31, CIFAR-10 Batch 1:  Loss:     0.5764 Validation Accuracy: 0.663200\n",
      "Epoch 31, CIFAR-10 Batch 2:  Loss:     0.5854 Validation Accuracy: 0.670000\n",
      "Epoch 31, CIFAR-10 Batch 3:  Loss:     0.4881 Validation Accuracy: 0.672000\n",
      "Epoch 31, CIFAR-10 Batch 4:  Loss:     0.4779 Validation Accuracy: 0.674600\n",
      "Epoch 31, CIFAR-10 Batch 5:  Loss:     0.4945 Validation Accuracy: 0.666800\n",
      "Epoch 32, CIFAR-10 Batch 1:  Loss:     0.5723 Validation Accuracy: 0.670600\n",
      "Epoch 32, CIFAR-10 Batch 2:  Loss:     0.5748 Validation Accuracy: 0.665200\n",
      "Epoch 32, CIFAR-10 Batch 3:  Loss:     0.4911 Validation Accuracy: 0.675000\n",
      "Epoch 32, CIFAR-10 Batch 4:  Loss:     0.4482 Validation Accuracy: 0.678600\n",
      "Epoch 32, CIFAR-10 Batch 5:  Loss:     0.4687 Validation Accuracy: 0.668000\n",
      "Epoch 33, CIFAR-10 Batch 1:  Loss:     0.5248 Validation Accuracy: 0.669200\n",
      "Epoch 33, CIFAR-10 Batch 2:  Loss:     0.5571 Validation Accuracy: 0.664200\n",
      "Epoch 33, CIFAR-10 Batch 3:  Loss:     0.4660 Validation Accuracy: 0.674400\n",
      "Epoch 33, CIFAR-10 Batch 4:  Loss:     0.4218 Validation Accuracy: 0.679200\n",
      "Epoch 33, CIFAR-10 Batch 5:  Loss:     0.4639 Validation Accuracy: 0.668000\n",
      "Epoch 34, CIFAR-10 Batch 1:  Loss:     0.4950 Validation Accuracy: 0.676800\n",
      "Epoch 34, CIFAR-10 Batch 2:  Loss:     0.5422 Validation Accuracy: 0.664600\n",
      "Epoch 34, CIFAR-10 Batch 3:  Loss:     0.4564 Validation Accuracy: 0.670400\n",
      "Epoch 34, CIFAR-10 Batch 4:  Loss:     0.4249 Validation Accuracy: 0.678600\n",
      "Epoch 34, CIFAR-10 Batch 5:  Loss:     0.4384 Validation Accuracy: 0.671800\n",
      "Epoch 35, CIFAR-10 Batch 1:  Loss:     0.4930 Validation Accuracy: 0.677800\n",
      "Epoch 35, CIFAR-10 Batch 2:  Loss:     0.5504 Validation Accuracy: 0.664800\n",
      "Epoch 35, CIFAR-10 Batch 3:  Loss:     0.4519 Validation Accuracy: 0.670200\n",
      "Epoch 35, CIFAR-10 Batch 4:  Loss:     0.4415 Validation Accuracy: 0.667600\n",
      "Epoch 35, CIFAR-10 Batch 5:  Loss:     0.4156 Validation Accuracy: 0.673400\n",
      "Epoch 36, CIFAR-10 Batch 1:  Loss:     0.4933 Validation Accuracy: 0.675000\n",
      "Epoch 36, CIFAR-10 Batch 2:  Loss:     0.5047 Validation Accuracy: 0.667600\n",
      "Epoch 36, CIFAR-10 Batch 3:  Loss:     0.4233 Validation Accuracy: 0.678200\n",
      "Epoch 36, CIFAR-10 Batch 4:  Loss:     0.4237 Validation Accuracy: 0.663200\n",
      "Epoch 36, CIFAR-10 Batch 5:  Loss:     0.4141 Validation Accuracy: 0.675400\n",
      "Epoch 37, CIFAR-10 Batch 1:  Loss:     0.4663 Validation Accuracy: 0.678000\n",
      "Epoch 37, CIFAR-10 Batch 2:  Loss:     0.5001 Validation Accuracy: 0.662400\n",
      "Epoch 37, CIFAR-10 Batch 3:  Loss:     0.4441 Validation Accuracy: 0.671000\n",
      "Epoch 37, CIFAR-10 Batch 4:  Loss:     0.4272 Validation Accuracy: 0.664200\n",
      "Epoch 37, CIFAR-10 Batch 5:  Loss:     0.4049 Validation Accuracy: 0.674000\n",
      "Epoch 38, CIFAR-10 Batch 1:  Loss:     0.4712 Validation Accuracy: 0.673200\n",
      "Epoch 38, CIFAR-10 Batch 2:  Loss:     0.4804 Validation Accuracy: 0.677800\n",
      "Epoch 38, CIFAR-10 Batch 3:  Loss:     0.4259 Validation Accuracy: 0.669000\n",
      "Epoch 38, CIFAR-10 Batch 4:  Loss:     0.4015 Validation Accuracy: 0.668600\n",
      "Epoch 38, CIFAR-10 Batch 5:  Loss:     0.3844 Validation Accuracy: 0.678800\n",
      "Epoch 39, CIFAR-10 Batch 1:  Loss:     0.4736 Validation Accuracy: 0.668000\n",
      "Epoch 39, CIFAR-10 Batch 2:  Loss:     0.4707 Validation Accuracy: 0.664600\n",
      "Epoch 39, CIFAR-10 Batch 3:  Loss:     0.4002 Validation Accuracy: 0.672800\n",
      "Epoch 39, CIFAR-10 Batch 4:  Loss:     0.3770 Validation Accuracy: 0.671200\n",
      "Epoch 39, CIFAR-10 Batch 5:  Loss:     0.4000 Validation Accuracy: 0.666400\n",
      "Epoch 40, CIFAR-10 Batch 1:  Loss:     0.4464 Validation Accuracy: 0.677000\n",
      "Epoch 40, CIFAR-10 Batch 2:  Loss:     0.4295 Validation Accuracy: 0.673200\n",
      "Epoch 40, CIFAR-10 Batch 3:  Loss:     0.3976 Validation Accuracy: 0.665000\n",
      "Epoch 40, CIFAR-10 Batch 4:  Loss:     0.3808 Validation Accuracy: 0.660200\n",
      "Epoch 40, CIFAR-10 Batch 5:  Loss:     0.3869 Validation Accuracy: 0.681400\n",
      "Epoch 41, CIFAR-10 Batch 1:  Loss:     0.4258 Validation Accuracy: 0.674200\n",
      "Epoch 41, CIFAR-10 Batch 2:  Loss:     0.4229 Validation Accuracy: 0.678200\n",
      "Epoch 41, CIFAR-10 Batch 3:  Loss:     0.3541 Validation Accuracy: 0.676600\n",
      "Epoch 41, CIFAR-10 Batch 4:  Loss:     0.3600 Validation Accuracy: 0.670200\n",
      "Epoch 41, CIFAR-10 Batch 5:  Loss:     0.3522 Validation Accuracy: 0.687800\n",
      "Epoch 42, CIFAR-10 Batch 1:  Loss:     0.4356 Validation Accuracy: 0.672000\n",
      "Epoch 42, CIFAR-10 Batch 2:  Loss:     0.4204 Validation Accuracy: 0.681800\n",
      "Epoch 42, CIFAR-10 Batch 3:  Loss:     0.3409 Validation Accuracy: 0.679000\n",
      "Epoch 42, CIFAR-10 Batch 4:  Loss:     0.3472 Validation Accuracy: 0.673600\n",
      "Epoch 42, CIFAR-10 Batch 5:  Loss:     0.3607 Validation Accuracy: 0.677400\n",
      "Epoch 43, CIFAR-10 Batch 1:  Loss:     0.4025 Validation Accuracy: 0.679800\n",
      "Epoch 43, CIFAR-10 Batch 2:  Loss:     0.3936 Validation Accuracy: 0.682000\n",
      "Epoch 43, CIFAR-10 Batch 3:  Loss:     0.3117 Validation Accuracy: 0.680400\n",
      "Epoch 43, CIFAR-10 Batch 4:  Loss:     0.3240 Validation Accuracy: 0.672400\n",
      "Epoch 43, CIFAR-10 Batch 5:  Loss:     0.3267 Validation Accuracy: 0.685400\n",
      "Epoch 44, CIFAR-10 Batch 1:  Loss:     0.3709 Validation Accuracy: 0.682200\n",
      "Epoch 44, CIFAR-10 Batch 2:  Loss:     0.3687 Validation Accuracy: 0.689200\n",
      "Epoch 44, CIFAR-10 Batch 3:  Loss:     0.3062 Validation Accuracy: 0.680400\n",
      "Epoch 44, CIFAR-10 Batch 4:  Loss:     0.3257 Validation Accuracy: 0.662200\n",
      "Epoch 44, CIFAR-10 Batch 5:  Loss:     0.3195 Validation Accuracy: 0.677800\n",
      "Epoch 45, CIFAR-10 Batch 1:  Loss:     0.3614 Validation Accuracy: 0.679200\n",
      "Epoch 45, CIFAR-10 Batch 2:  Loss:     0.3415 Validation Accuracy: 0.684000\n",
      "Epoch 45, CIFAR-10 Batch 3:  Loss:     0.3122 Validation Accuracy: 0.678600\n",
      "Epoch 45, CIFAR-10 Batch 4:  Loss:     0.2970 Validation Accuracy: 0.668200\n",
      "Epoch 45, CIFAR-10 Batch 5:  Loss:     0.3184 Validation Accuracy: 0.681200\n",
      "Epoch 46, CIFAR-10 Batch 1:  Loss:     0.3371 Validation Accuracy: 0.683600\n",
      "Epoch 46, CIFAR-10 Batch 2:  Loss:     0.3441 Validation Accuracy: 0.685000\n",
      "Epoch 46, CIFAR-10 Batch 3:  Loss:     0.2990 Validation Accuracy: 0.677800\n",
      "Epoch 46, CIFAR-10 Batch 4:  Loss:     0.2923 Validation Accuracy: 0.663200\n",
      "Epoch 46, CIFAR-10 Batch 5:  Loss:     0.3263 Validation Accuracy: 0.675200\n",
      "Epoch 47, CIFAR-10 Batch 1:  Loss:     0.3295 Validation Accuracy: 0.689600\n",
      "Epoch 47, CIFAR-10 Batch 2:  Loss:     0.3147 Validation Accuracy: 0.691200\n",
      "Epoch 47, CIFAR-10 Batch 3:  Loss:     0.2800 Validation Accuracy: 0.683800\n",
      "Epoch 47, CIFAR-10 Batch 4:  Loss:     0.2750 Validation Accuracy: 0.666600\n",
      "Epoch 47, CIFAR-10 Batch 5:  Loss:     0.2966 Validation Accuracy: 0.674400\n",
      "Epoch 48, CIFAR-10 Batch 1:  Loss:     0.3217 Validation Accuracy: 0.688400\n",
      "Epoch 48, CIFAR-10 Batch 2:  Loss:     0.2962 Validation Accuracy: 0.688000\n",
      "Epoch 48, CIFAR-10 Batch 3:  Loss:     0.2772 Validation Accuracy: 0.674600\n",
      "Epoch 48, CIFAR-10 Batch 4:  Loss:     0.2675 Validation Accuracy: 0.662000\n",
      "Epoch 48, CIFAR-10 Batch 5:  Loss:     0.2806 Validation Accuracy: 0.675400\n",
      "Epoch 49, CIFAR-10 Batch 1:  Loss:     0.2956 Validation Accuracy: 0.686400\n",
      "Epoch 49, CIFAR-10 Batch 2:  Loss:     0.2837 Validation Accuracy: 0.686600\n",
      "Epoch 49, CIFAR-10 Batch 3:  Loss:     0.2731 Validation Accuracy: 0.679200\n",
      "Epoch 49, CIFAR-10 Batch 4:  Loss:     0.2637 Validation Accuracy: 0.666000\n",
      "Epoch 49, CIFAR-10 Batch 5:  Loss:     0.2707 Validation Accuracy: 0.681400\n",
      "Epoch 50, CIFAR-10 Batch 1:  Loss:     0.2945 Validation Accuracy: 0.683800\n",
      "Epoch 50, CIFAR-10 Batch 2:  Loss:     0.2751 Validation Accuracy: 0.689200\n",
      "Epoch 50, CIFAR-10 Batch 3:  Loss:     0.2599 Validation Accuracy: 0.679000\n",
      "Epoch 50, CIFAR-10 Batch 4:  Loss:     0.2437 Validation Accuracy: 0.664800\n",
      "Epoch 50, CIFAR-10 Batch 5:  Loss:     0.2666 Validation Accuracy: 0.675600\n"
     ]
    }
   ],
   "source": [
    "\"\"\"\n",
    "DON'T MODIFY ANYTHING IN THIS CELL\n",
    "\"\"\"\n",
    "save_model_path = './image_classification'\n",
    "\n",
    "print('Training...')\n",
    "with tf.Session() as sess:\n",
    "    # Initializing the variables\n",
    "    sess.run(tf.global_variables_initializer())\n",
    "    \n",
    "    # Training cycle\n",
    "    for epoch in range(epochs):\n",
    "        # Loop over all batches\n",
    "        n_batches = 5\n",
    "        for batch_i in range(1, n_batches + 1):\n",
    "            for batch_features, batch_labels in helper.load_preprocess_training_batch(batch_i, batch_size):\n",
    "                train_neural_network(sess, optimizer, keep_probability, batch_features, batch_labels)\n",
    "            print('Epoch {:>2}, CIFAR-10 Batch {}:  '.format(epoch + 1, batch_i), end='')\n",
    "            print_stats(sess, batch_features, batch_labels, cost, accuracy)\n",
    "            \n",
    "    # Save Model\n",
    "    saver = tf.train.Saver()\n",
    "    save_path = saver.save(sess, save_model_path)"
   ]
  },
  {
   "cell_type": "markdown",
   "metadata": {
    "deletable": true,
    "editable": true
   },
   "source": [
    "# Checkpoint\n",
    "The model has been saved to disk.\n",
    "## Test Model\n",
    "Test your model against the test dataset.  This will be your final accuracy. You should have an accuracy greater than 50%. If you don't, keep tweaking the model architecture and parameters."
   ]
  },
  {
   "cell_type": "code",
   "execution_count": 178,
   "metadata": {
    "collapsed": false,
    "deletable": true,
    "editable": true
   },
   "outputs": [
    {
     "name": "stdout",
     "output_type": "stream",
     "text": [
      "Testing Accuracy: 0.6714499086141587\n",
      "\n"
     ]
    },
    {
     "data": {
      "image/png": "[encoded data removed]",
      "text/plain": [
       "<matplotlib.figure.Figure at 0x7f6d65026b70>"
      ]
     },
     "metadata": {
      "image/png": {
       "height": 319,
       "width": 349
      }
     },
     "output_type": "display_data"
    }
   ],
   "source": [
    "\"\"\"\n",
    "DON'T MODIFY ANYTHING IN THIS CELL\n",
    "\"\"\"\n",
    "%matplotlib inline\n",
    "%config InlineBackend.figure_format = 'retina'\n",
    "\n",
    "import tensorflow as tf\n",
    "import pickle\n",
    "import helper\n",
    "import random\n",
    "\n",
    "# Set batch size if not already set\n",
    "try:\n",
    "    if batch_size:\n",
    "        pass\n",
    "except NameError:\n",
    "    batch_size = 64\n",
    "\n",
    "save_model_path = './image_classification'\n",
    "n_samples = 4\n",
    "top_n_predictions = 3\n",
    "\n",
    "def test_model():\n",
    "    \"\"\"\n",
    "    Test the saved model against the test dataset\n",
    "    \"\"\"\n",
    "\n",
    "    test_features, test_labels = pickle.load(open('preprocess_training.p', mode='rb'))\n",
    "    loaded_graph = tf.Graph()\n",
    "\n",
    "    with tf.Session(graph=loaded_graph) as sess:\n",
    "        # Load model\n",
    "        loader = tf.train.import_meta_graph(save_model_path + '.meta')\n",
    "        loader.restore(sess, save_model_path)\n",
    "\n",
    "        # Get Tensors from loaded model\n",
    "        loaded_x = loaded_graph.get_tensor_by_name('x:0')\n",
    "        loaded_y = loaded_graph.get_tensor_by_name('y:0')\n",
    "        loaded_keep_prob = loaded_graph.get_tensor_by_name('keep_prob:0')\n",
    "        loaded_logits = loaded_graph.get_tensor_by_name('logits:0')\n",
    "        loaded_acc = loaded_graph.get_tensor_by_name('accuracy:0')\n",
    "        \n",
    "        # Get accuracy in batches for memory limitations\n",
    "        test_batch_acc_total = 0\n",
    "        test_batch_count = 0\n",
    "        \n",
    "        for train_feature_batch, train_label_batch in helper.batch_features_labels(test_features, test_labels, batch_size):\n",
    "            test_batch_acc_total += sess.run(\n",
    "                loaded_acc,\n",
    "                feed_dict={loaded_x: train_feature_batch, loaded_y: train_label_batch, loaded_keep_prob: 1.0})\n",
    "            test_batch_count += 1\n",
    "\n",
    "        print('Testing Accuracy: {}\\n'.format(test_batch_acc_total/test_batch_count))\n",
    "\n",
    "        # Print Random Samples\n",
    "        random_test_features, random_test_labels = tuple(zip(*random.sample(list(zip(test_features, test_labels)), n_samples)))\n",
    "        random_test_predictions = sess.run(\n",
    "            tf.nn.top_k(tf.nn.softmax(loaded_logits), top_n_predictions),\n",
    "            feed_dict={loaded_x: random_test_features, loaded_y: random_test_labels, loaded_keep_prob: 1.0})\n",
    "        helper.display_image_predictions(random_test_features, random_test_labels, random_test_predictions)\n",
    "\n",
    "\n",
    "test_model()"
   ]
  },
  {
   "cell_type": "markdown",
   "metadata": {
    "deletable": true,
    "editable": true
   },
   "source": [
    "## Why 50-80% Accuracy?\n",
    "You might be wondering why you can't get an accuracy any higher. First things first, 50% isn't bad for a simple CNN.  Pure guessing would get you 10% accuracy. However, you might notice people are getting scores [well above 80%](http://rodrigob.github.io/are_we_there_yet/build/classification_datasets_results.html#43494641522d3130).  That's because we haven't taught you all there is to know about neural networks. We still need to cover a few more techniques.\n",
    "## Submitting This Project\n",
    "When submitting this project, make sure to run all the cells before saving the notebook.  Save the notebook file as \"dlnd_image_classification.ipynb\" and save it as a HTML file under \"File\" -> \"Download as\".  Include the \"helper.py\" and \"problem_unittests.py\" files in your submission."
   ]
  }
 ],
 "metadata": {
  "kernelspec": {
   "display_name": "Python 3",
   "language": "python",
   "name": "python3"
  },
  "language_info": {
   "codemirror_mode": {
    "name": "ipython",
    "version": 3
   },
   "file_extension": ".py",
   "mimetype": "text/x-python",
   "name": "python",
   "nbconvert_exporter": "python",
   "pygments_lexer": "ipython3",
   "version": "3.5.2"
  },
  "widgets": {
   "state": {},
   "version": "1.1.2"
  }
 },
 "nbformat": 4,
 "nbformat_minor": 0
}
